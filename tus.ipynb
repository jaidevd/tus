{
 "cells": [
  {
   "cell_type": "code",
   "execution_count": 184,
   "id": "aa12bf7a-c87a-4536-a6e6-6eef452242c0",
   "metadata": {},
   "outputs": [],
   "source": [
    "import pandas as pd"
   ]
  },
  {
   "cell_type": "code",
   "execution_count": 188,
   "id": "c66bf70e-49d5-4f33-a361-352a36f92ada",
   "metadata": {},
   "outputs": [
    {
     "data": {
      "text/html": [
       "<div>\n",
       "<style scoped>\n",
       "    .dataframe tbody tr th:only-of-type {\n",
       "        vertical-align: middle;\n",
       "    }\n",
       "\n",
       "    .dataframe tbody tr th {\n",
       "        vertical-align: top;\n",
       "    }\n",
       "\n",
       "    .dataframe thead th {\n",
       "        text-align: right;\n",
       "    }\n",
       "</style>\n",
       "<table border=\"1\" class=\"dataframe\">\n",
       "  <thead>\n",
       "    <tr style=\"text-align: right;\">\n",
       "      <th></th>\n",
       "      <th>index</th>\n",
       "      <th>BYTES</th>\n",
       "      <th>Filename</th>\n",
       "      <th>Schedule_ID</th>\n",
       "      <th>psu</th>\n",
       "      <th>Schedule</th>\n",
       "      <th>survey_year</th>\n",
       "      <th>Sector</th>\n",
       "      <th>NSS_Region</th>\n",
       "      <th>District</th>\n",
       "      <th>...</th>\n",
       "      <th>generation</th>\n",
       "      <th>pweight</th>\n",
       "      <th>state</th>\n",
       "      <th>sector</th>\n",
       "      <th>fs_strata</th>\n",
       "      <th>unemp_men</th>\n",
       "      <th>n_unemp_men</th>\n",
       "      <th>employed_help</th>\n",
       "      <th>piped_gas</th>\n",
       "      <th>wired_source</th>\n",
       "    </tr>\n",
       "  </thead>\n",
       "  <tbody>\n",
       "    <tr>\n",
       "      <th>0</th>\n",
       "      <td>8602015</td>\n",
       "      <td>TUS100011062019133103013823320010500001 670010...</td>\n",
       "      <td>TUS106_L05.TXT</td>\n",
       "      <td>TUS</td>\n",
       "      <td>10001</td>\n",
       "      <td>106</td>\n",
       "      <td>2019</td>\n",
       "      <td>Rural</td>\n",
       "      <td>331</td>\n",
       "      <td>03</td>\n",
       "      <td>...</td>\n",
       "      <td>Old</td>\n",
       "      <td>229.600006</td>\n",
       "      <td>33.0</td>\n",
       "      <td>1.0</td>\n",
       "      <td>73.0</td>\n",
       "      <td>0.0</td>\n",
       "      <td>0.0</td>\n",
       "      <td>0.0</td>\n",
       "      <td>Piped Gas/LPG Present</td>\n",
       "      <td>electricity</td>\n",
       "    </tr>\n",
       "    <tr>\n",
       "      <th>1</th>\n",
       "      <td>8602033</td>\n",
       "      <td>TUS100011062019133103013823320010500002 610010...</td>\n",
       "      <td>TUS106_L05.TXT</td>\n",
       "      <td>TUS</td>\n",
       "      <td>10001</td>\n",
       "      <td>106</td>\n",
       "      <td>2019</td>\n",
       "      <td>Rural</td>\n",
       "      <td>331</td>\n",
       "      <td>03</td>\n",
       "      <td>...</td>\n",
       "      <td>Old</td>\n",
       "      <td>229.600006</td>\n",
       "      <td>33.0</td>\n",
       "      <td>1.0</td>\n",
       "      <td>73.0</td>\n",
       "      <td>0.0</td>\n",
       "      <td>0.0</td>\n",
       "      <td>0.0</td>\n",
       "      <td>Piped Gas/LPG Present</td>\n",
       "      <td>electricity</td>\n",
       "    </tr>\n",
       "    <tr>\n",
       "      <th>2</th>\n",
       "      <td>8602054</td>\n",
       "      <td>TUS100011062019133103013823320010500003 330010...</td>\n",
       "      <td>TUS106_L05.TXT</td>\n",
       "      <td>TUS</td>\n",
       "      <td>10001</td>\n",
       "      <td>106</td>\n",
       "      <td>2019</td>\n",
       "      <td>Rural</td>\n",
       "      <td>331</td>\n",
       "      <td>03</td>\n",
       "      <td>...</td>\n",
       "      <td>Young</td>\n",
       "      <td>229.600006</td>\n",
       "      <td>33.0</td>\n",
       "      <td>1.0</td>\n",
       "      <td>73.0</td>\n",
       "      <td>0.0</td>\n",
       "      <td>0.0</td>\n",
       "      <td>0.0</td>\n",
       "      <td>Piped Gas/LPG Present</td>\n",
       "      <td>electricity</td>\n",
       "    </tr>\n",
       "    <tr>\n",
       "      <th>3</th>\n",
       "      <td>8602074</td>\n",
       "      <td>TUS100011062019133103013823320010500004 260010...</td>\n",
       "      <td>TUS106_L05.TXT</td>\n",
       "      <td>TUS</td>\n",
       "      <td>10001</td>\n",
       "      <td>106</td>\n",
       "      <td>2019</td>\n",
       "      <td>Rural</td>\n",
       "      <td>331</td>\n",
       "      <td>03</td>\n",
       "      <td>...</td>\n",
       "      <td>Young</td>\n",
       "      <td>229.600006</td>\n",
       "      <td>33.0</td>\n",
       "      <td>1.0</td>\n",
       "      <td>73.0</td>\n",
       "      <td>0.0</td>\n",
       "      <td>0.0</td>\n",
       "      <td>0.0</td>\n",
       "      <td>Piped Gas/LPG Present</td>\n",
       "      <td>electricity</td>\n",
       "    </tr>\n",
       "    <tr>\n",
       "      <th>4</th>\n",
       "      <td>8602098</td>\n",
       "      <td>TUS100011062019133103013823320020500001 700010...</td>\n",
       "      <td>TUS106_L05.TXT</td>\n",
       "      <td>TUS</td>\n",
       "      <td>10001</td>\n",
       "      <td>106</td>\n",
       "      <td>2019</td>\n",
       "      <td>Rural</td>\n",
       "      <td>331</td>\n",
       "      <td>03</td>\n",
       "      <td>...</td>\n",
       "      <td>Old</td>\n",
       "      <td>229.600006</td>\n",
       "      <td>33.0</td>\n",
       "      <td>1.0</td>\n",
       "      <td>73.0</td>\n",
       "      <td>0.0</td>\n",
       "      <td>0.0</td>\n",
       "      <td>0.0</td>\n",
       "      <td>Piped Gas/LPG Present</td>\n",
       "      <td>electricity</td>\n",
       "    </tr>\n",
       "  </tbody>\n",
       "</table>\n",
       "<p>5 rows × 150 columns</p>\n",
       "</div>"
      ],
      "text/plain": [
       "     index                                              BYTES        Filename  \\\n",
       "0  8602015  TUS100011062019133103013823320010500001 670010...  TUS106_L05.TXT   \n",
       "1  8602033  TUS100011062019133103013823320010500002 610010...  TUS106_L05.TXT   \n",
       "2  8602054  TUS100011062019133103013823320010500003 330010...  TUS106_L05.TXT   \n",
       "3  8602074  TUS100011062019133103013823320010500004 260010...  TUS106_L05.TXT   \n",
       "4  8602098  TUS100011062019133103013823320020500001 700010...  TUS106_L05.TXT   \n",
       "\n",
       "  Schedule_ID    psu Schedule survey_year Sector NSS_Region District  ...  \\\n",
       "0         TUS  10001      106        2019  Rural        331       03  ...   \n",
       "1         TUS  10001      106        2019  Rural        331       03  ...   \n",
       "2         TUS  10001      106        2019  Rural        331       03  ...   \n",
       "3         TUS  10001      106        2019  Rural        331       03  ...   \n",
       "4         TUS  10001      106        2019  Rural        331       03  ...   \n",
       "\n",
       "   generation     pweight state sector fs_strata unemp_men n_unemp_men  \\\n",
       "0         Old  229.600006  33.0    1.0      73.0       0.0         0.0   \n",
       "1         Old  229.600006  33.0    1.0      73.0       0.0         0.0   \n",
       "2       Young  229.600006  33.0    1.0      73.0       0.0         0.0   \n",
       "3       Young  229.600006  33.0    1.0      73.0       0.0         0.0   \n",
       "4         Old  229.600006  33.0    1.0      73.0       0.0         0.0   \n",
       "\n",
       "  employed_help              piped_gas wired_source  \n",
       "0           0.0  Piped Gas/LPG Present  electricity  \n",
       "1           0.0  Piped Gas/LPG Present  electricity  \n",
       "2           0.0  Piped Gas/LPG Present  electricity  \n",
       "3           0.0  Piped Gas/LPG Present  electricity  \n",
       "4           0.0  Piped Gas/LPG Present  electricity  \n",
       "\n",
       "[5 rows x 150 columns]"
      ]
     },
     "execution_count": 188,
     "metadata": {},
     "output_type": "execute_result"
    }
   ],
   "source": [
    "df = pd.read_stata('data/ml_data.dta')\n",
    "df.head()"
   ]
  },
  {
   "cell_type": "code",
   "execution_count": 189,
   "id": "113bcccd-030a-4446-b6d9-40109d658b7e",
   "metadata": {},
   "outputs": [
    {
     "data": {
      "text/plain": [
       "(445295, 150)"
      ]
     },
     "execution_count": 189,
     "metadata": {},
     "output_type": "execute_result"
    }
   ],
   "source": [
    "df.shape"
   ]
  },
  {
   "cell_type": "code",
   "execution_count": 190,
   "id": "4df4af58-27d3-4ac4-855a-2af91f60af5b",
   "metadata": {},
   "outputs": [],
   "source": [
    "df.set_index('index', inplace=True, verify_integrity=True)\n",
    "to_drop = ['BYTES', 'Filename', 'Schedule_ID', 'Schedule', 'survey_year',\n",
    "           'Sample_hhld__No_', 'Common_ID', 'Level', 'Filler', 'Serial_no_of_member',\n",
    "           'Blank', 'NSC', 'MULT', 'iid', 'mdivision', 'division',  'Person_serial_no_',\n",
    "           'Age', 'child', 'women_working', 'old_child', '_0imputed_value_of_usual_consump',\n",
    "           'other', 'prod_own_use', 'residual', '_merge', 'State_name', 'generation', 'state',\n",
    "           'sector', 'fs_strata', 'unemp_men']\n",
    "df.drop(to_drop, axis=1, inplace=True)"
   ]
  },
  {
   "cell_type": "code",
   "execution_count": 193,
   "id": "69a6bb62-892d-47c3-bb3e-a3f154839ed3",
   "metadata": {},
   "outputs": [
    {
     "data": {
      "text/plain": [
       "(445295, 117)"
      ]
     },
     "execution_count": 193,
     "metadata": {},
     "output_type": "execute_result"
    }
   ],
   "source": [
    "df.shape"
   ]
  },
  {
   "cell_type": "code",
   "execution_count": 195,
   "id": "a75af090-0b42-4008-854f-05fd01bd5d65",
   "metadata": {},
   "outputs": [
    {
     "data": {
      "text/plain": [
       "['Male', 'Female', 'Third Gender']\n",
       "Categories (3, object): ['Male' < 'Female' < 'Third Gender']"
      ]
     },
     "execution_count": 195,
     "metadata": {},
     "output_type": "execute_result"
    }
   ],
   "source": [
    "df['Gender'].unique()"
   ]
  },
  {
   "cell_type": "code",
   "execution_count": 196,
   "id": "29f63b1e-8275-4929-a8fd-5b7cf33a1805",
   "metadata": {},
   "outputs": [],
   "source": [
    "fpa = df[df['Gender'] == 'Female']"
   ]
  },
  {
   "cell_type": "code",
   "execution_count": 198,
   "id": "b48c4300-b35d-42c9-80f2-ab1ffdd0ddfa",
   "metadata": {},
   "outputs": [],
   "source": [
    "y = fpa.pop('paid_activity_time')"
   ]
  },
  {
   "cell_type": "code",
   "execution_count": 203,
   "id": "fdc5c568-54b2-454a-abd6-512566841449",
   "metadata": {},
   "outputs": [],
   "source": [
    "import numpy as np"
   ]
  },
  {
   "cell_type": "code",
   "execution_count": 200,
   "id": "cdf9c8f7-cf43-4e8a-adb0-998009dddcd0",
   "metadata": {},
   "outputs": [],
   "source": [
    "from sklearn.tree import DecisionTreeRegressor"
   ]
  },
  {
   "cell_type": "code",
   "execution_count": 204,
   "id": "2a0338a7-6c05-49e6-aa1c-a1f4ff243e8c",
   "metadata": {},
   "outputs": [],
   "source": [
    "otypes = df.columns[df.dtypes == np.dtype('O')]"
   ]
  },
  {
   "cell_type": "code",
   "execution_count": 205,
   "id": "e49c46a5-52af-4138-aed0-2f0d51745b0d",
   "metadata": {},
   "outputs": [
    {
     "data": {
      "text/plain": [
       "Index(['psu', 'NSS_Region', 'District', 'Sub_Round', 'FOD_Sub_Region', 'age',\n",
       "       'srl__No_of_activity', 'time_from', 'time_to',\n",
       "       'whether_performed_multiple_activ', 'whether_simultaneous_activity',\n",
       "       'whether_a_major_activity', 'where_the_activity_was_performed',\n",
       "       'enterprise_type', 'unpaid_tag', 'industry_of_work__2_digit_of_NIC',\n",
       "       'Household_size', 'Land_possessed_as_on_date_of_sur',\n",
       "       'usual_consumer_expenditure_in_a_', 'imputed_value_of_usual_consumpti',\n",
       "       'expenditure_on_purchase_of_house', 'Primary_source_of_energey_for_li',\n",
       "       'Type_of_structure_of_the_dwellin'],\n",
       "      dtype='object')"
      ]
     },
     "execution_count": 205,
     "metadata": {},
     "output_type": "execute_result"
    }
   ],
   "source": [
    "otypes"
   ]
  },
  {
   "cell_type": "code",
   "execution_count": 212,
   "id": "fc8db16e-5670-435b-a810-e91b1cb4d685",
   "metadata": {},
   "outputs": [
    {
     "data": {
      "text/html": [
       "<div>\n",
       "<style scoped>\n",
       "    .dataframe tbody tr th:only-of-type {\n",
       "        vertical-align: middle;\n",
       "    }\n",
       "\n",
       "    .dataframe tbody tr th {\n",
       "        vertical-align: top;\n",
       "    }\n",
       "\n",
       "    .dataframe thead th {\n",
       "        text-align: right;\n",
       "    }\n",
       "</style>\n",
       "<table border=\"1\" class=\"dataframe\">\n",
       "  <thead>\n",
       "    <tr style=\"text-align: right;\">\n",
       "      <th></th>\n",
       "      <th>psu</th>\n",
       "      <th>NSS_Region</th>\n",
       "      <th>District</th>\n",
       "      <th>Sub_Round</th>\n",
       "    </tr>\n",
       "    <tr>\n",
       "      <th>index</th>\n",
       "      <th></th>\n",
       "      <th></th>\n",
       "      <th></th>\n",
       "      <th></th>\n",
       "    </tr>\n",
       "  </thead>\n",
       "  <tbody>\n",
       "    <tr>\n",
       "      <th>8602015</th>\n",
       "      <td>10001</td>\n",
       "      <td>331</td>\n",
       "      <td>3</td>\n",
       "      <td>2</td>\n",
       "    </tr>\n",
       "    <tr>\n",
       "      <th>8602033</th>\n",
       "      <td>10001</td>\n",
       "      <td>331</td>\n",
       "      <td>3</td>\n",
       "      <td>2</td>\n",
       "    </tr>\n",
       "    <tr>\n",
       "      <th>8602054</th>\n",
       "      <td>10001</td>\n",
       "      <td>331</td>\n",
       "      <td>3</td>\n",
       "      <td>2</td>\n",
       "    </tr>\n",
       "    <tr>\n",
       "      <th>8602074</th>\n",
       "      <td>10001</td>\n",
       "      <td>331</td>\n",
       "      <td>3</td>\n",
       "      <td>2</td>\n",
       "    </tr>\n",
       "    <tr>\n",
       "      <th>8602098</th>\n",
       "      <td>10001</td>\n",
       "      <td>331</td>\n",
       "      <td>3</td>\n",
       "      <td>2</td>\n",
       "    </tr>\n",
       "    <tr>\n",
       "      <th>...</th>\n",
       "      <td>...</td>\n",
       "      <td>...</td>\n",
       "      <td>...</td>\n",
       "      <td>...</td>\n",
       "    </tr>\n",
       "    <tr>\n",
       "      <th>7701608</th>\n",
       "      <td>26124</td>\n",
       "      <td>283</td>\n",
       "      <td>10</td>\n",
       "      <td>3</td>\n",
       "    </tr>\n",
       "    <tr>\n",
       "      <th>7701636</th>\n",
       "      <td>26124</td>\n",
       "      <td>283</td>\n",
       "      <td>10</td>\n",
       "      <td>3</td>\n",
       "    </tr>\n",
       "    <tr>\n",
       "      <th>7701671</th>\n",
       "      <td>26124</td>\n",
       "      <td>283</td>\n",
       "      <td>10</td>\n",
       "      <td>3</td>\n",
       "    </tr>\n",
       "    <tr>\n",
       "      <th>7701697</th>\n",
       "      <td>26124</td>\n",
       "      <td>283</td>\n",
       "      <td>10</td>\n",
       "      <td>3</td>\n",
       "    </tr>\n",
       "    <tr>\n",
       "      <th>7701724</th>\n",
       "      <td>26124</td>\n",
       "      <td>283</td>\n",
       "      <td>10</td>\n",
       "      <td>3</td>\n",
       "    </tr>\n",
       "  </tbody>\n",
       "</table>\n",
       "<p>445295 rows × 4 columns</p>\n",
       "</div>"
      ],
      "text/plain": [
       "           psu  NSS_Region  District  Sub_Round\n",
       "index                                          \n",
       "8602015  10001         331         3          2\n",
       "8602033  10001         331         3          2\n",
       "8602054  10001         331         3          2\n",
       "8602074  10001         331         3          2\n",
       "8602098  10001         331         3          2\n",
       "...        ...         ...       ...        ...\n",
       "7701608  26124         283        10          3\n",
       "7701636  26124         283        10          3\n",
       "7701671  26124         283        10          3\n",
       "7701697  26124         283        10          3\n",
       "7701724  26124         283        10          3\n",
       "\n",
       "[445295 rows x 4 columns]"
      ]
     },
     "execution_count": 212,
     "metadata": {},
     "output_type": "execute_result"
    }
   ],
   "source": [
    "cols = ['psu', 'NSS_Region', 'District', 'Sub_Round', 'FOD_Sub_Region', 'age', 'srl__No_of_activity']\n",
    "df[cols[:4]].astype(int)"
   ]
  },
  {
   "cell_type": "code",
   "execution_count": 213,
   "id": "49e492f7-9205-488e-94bf-1c23a9ea6926",
   "metadata": {},
   "outputs": [
    {
     "name": "stderr",
     "output_type": "stream",
     "text": [
      "/tmp/ipykernel_14609/3385595648.py:1: SettingWithCopyWarning: \n",
      "A value is trying to be set on a copy of a slice from a DataFrame\n",
      "\n",
      "See the caveats in the documentation: https://pandas.pydata.org/pandas-docs/stable/user_guide/indexing.html#returning-a-view-versus-a-copy\n",
      "  fpa.drop(['FOD_Sub_Region'], axis=1, inplace=True)\n"
     ]
    }
   ],
   "source": [
    "fpa.drop(['FOD_Sub_Region'], axis=1, inplace=True)"
   ]
  },
  {
   "cell_type": "code",
   "execution_count": 214,
   "id": "f2002a49-e031-433b-86e0-5fffd7c0c8e4",
   "metadata": {},
   "outputs": [],
   "source": [
    "otypes = fpa.columns[fpa.dtypes == np.dtype('O')]"
   ]
  },
  {
   "cell_type": "code",
   "execution_count": 217,
   "id": "0b8f7b7a-f013-4ded-8cec-2a75e05940b4",
   "metadata": {},
   "outputs": [
    {
     "name": "stderr",
     "output_type": "stream",
     "text": [
      "/tmp/ipykernel_14609/4244976856.py:3: SettingWithCopyWarning: \n",
      "A value is trying to be set on a copy of a slice from a DataFrame.\n",
      "Try using .loc[row_indexer,col_indexer] = value instead\n",
      "\n",
      "See the caveats in the documentation: https://pandas.pydata.org/pandas-docs/stable/user_guide/indexing.html#returning-a-view-versus-a-copy\n",
      "  fpa[cols] = fpa[cols].astype(int)\n"
     ]
    }
   ],
   "source": [
    "cols = ['psu', 'NSS_Region', 'District', 'Sub_Round', 'age',\n",
    "       'srl__No_of_activity']\n",
    "fpa[cols] = fpa[cols].astype(int)"
   ]
  },
  {
   "cell_type": "code",
   "execution_count": 219,
   "id": "9be6a0c0-dd0d-468c-8f23-a225a373a785",
   "metadata": {},
   "outputs": [
    {
     "data": {
      "text/plain": [
       "Index(['time_from', 'time_to', 'whether_performed_multiple_activ',\n",
       "       'whether_simultaneous_activity', 'whether_a_major_activity',\n",
       "       'where_the_activity_was_performed', 'enterprise_type', 'unpaid_tag',\n",
       "       'industry_of_work__2_digit_of_NIC', 'Household_size',\n",
       "       'Land_possessed_as_on_date_of_sur', 'usual_consumer_expenditure_in_a_',\n",
       "       'imputed_value_of_usual_consumpti', 'expenditure_on_purchase_of_house',\n",
       "       'Primary_source_of_energey_for_li', 'Type_of_structure_of_the_dwellin'],\n",
       "      dtype='object')"
      ]
     },
     "execution_count": 219,
     "metadata": {},
     "output_type": "execute_result"
    }
   ],
   "source": [
    "fpa.columns[fpa.dtypes == np.dtype('O')]"
   ]
  },
  {
   "cell_type": "code",
   "execution_count": 220,
   "id": "868e1feb-8623-4e03-ab5a-8755c6cc0004",
   "metadata": {},
   "outputs": [
    {
     "name": "stderr",
     "output_type": "stream",
     "text": [
      "/tmp/ipykernel_14609/2436864244.py:1: SettingWithCopyWarning: \n",
      "A value is trying to be set on a copy of a slice from a DataFrame\n",
      "\n",
      "See the caveats in the documentation: https://pandas.pydata.org/pandas-docs/stable/user_guide/indexing.html#returning-a-view-versus-a-copy\n",
      "  fpa.drop(['time_from', 'time_to'], axis=1, inplace=True)\n"
     ]
    }
   ],
   "source": [
    "fpa.drop(['time_from', 'time_to'], axis=1, inplace=True)"
   ]
  },
  {
   "cell_type": "code",
   "execution_count": 221,
   "id": "f16827c1-8f25-4953-81a1-1f206bb6d940",
   "metadata": {},
   "outputs": [
    {
     "data": {
      "text/plain": [
       "['start_time',\n",
       " 'end_time',\n",
       " 'act_time',\n",
       " 'hh_time',\n",
       " 'care_time',\n",
       " 'child_care_time',\n",
       " 'adult_care_time',\n",
       " 'emp_time',\n",
       " 'sna_time',\n",
       " 'n_sna_time',\n",
       " 'other_time',\n",
       " 'cooking_time',\n",
       " 'collection_time',\n",
       " 'collection_preparation_time',\n",
       " 'cleaning_time',\n",
       " 'livestock_time',\n",
       " 'firewood_time',\n",
       " 'water_time',\n",
       " 'washing_time',\n",
       " 'unpaid_activity_time',\n",
       " 'residual_time',\n",
       " 'leisure_time',\n",
       " 'unpaid_sna_time',\n",
       " 'mkt_time_1',\n",
       " 'mkt_time_2',\n",
       " 'mkt_time_3',\n",
       " 'mkt_time_4',\n",
       " 'mkt_time_5',\n",
       " 'mkt_time_6',\n",
       " 'mkt_time_7',\n",
       " 'mkt_time_8',\n",
       " 'mkt_time_9',\n",
       " 'mkt_time_10',\n",
       " 'mkt_time_11',\n",
       " 'mkt_time_12',\n",
       " 'mkt_time_13',\n",
       " 'mkt_time_14',\n",
       " 'mkt_time_15',\n",
       " 'mkt_time_16',\n",
       " 'mkt_time_17',\n",
       " 'mkt_time_18']"
      ]
     },
     "execution_count": 221,
     "metadata": {},
     "output_type": "execute_result"
    }
   ],
   "source": [
    "[c for c in fpa if 'time' in c.lower()]"
   ]
  },
  {
   "cell_type": "code",
   "execution_count": 225,
   "id": "21540b43-71d1-4421-9596-71b3f1f01614",
   "metadata": {},
   "outputs": [
    {
     "name": "stderr",
     "output_type": "stream",
     "text": [
      "/tmp/ipykernel_14609/2340329357.py:1: SettingWithCopyWarning: \n",
      "A value is trying to be set on a copy of a slice from a DataFrame\n",
      "\n",
      "See the caveats in the documentation: https://pandas.pydata.org/pandas-docs/stable/user_guide/indexing.html#returning-a-view-versus-a-copy\n",
      "  fpa.drop(['care_time', 'hh_time', 'unpaid_activity_time'], axis=1, inplace=True)\n"
     ]
    }
   ],
   "source": [
    "fpa.drop(['care_time', 'hh_time', 'unpaid_activity_time'], axis=1, inplace=True)"
   ]
  },
  {
   "cell_type": "code",
   "execution_count": 229,
   "id": "8798e029-e686-4319-bd6a-2474ce7db45c",
   "metadata": {},
   "outputs": [],
   "source": [
    "otypes = fpa.columns[fpa.dtypes == np.dtype('O')]"
   ]
  },
  {
   "cell_type": "code",
   "execution_count": 233,
   "id": "6bddfcff-d4b8-491a-b0c3-0a8ed532bafc",
   "metadata": {},
   "outputs": [
    {
     "name": "stderr",
     "output_type": "stream",
     "text": [
      "/tmp/ipykernel_14609/1270881503.py:3: SettingWithCopyWarning: \n",
      "A value is trying to be set on a copy of a slice from a DataFrame.\n",
      "Try using .loc[row_indexer,col_indexer] = value instead\n",
      "\n",
      "See the caveats in the documentation: https://pandas.pydata.org/pandas-docs/stable/user_guide/indexing.html#returning-a-view-versus-a-copy\n",
      "  fpa[c] = fpa[c].astype(float)\n",
      "/tmp/ipykernel_14609/1270881503.py:3: SettingWithCopyWarning: \n",
      "A value is trying to be set on a copy of a slice from a DataFrame.\n",
      "Try using .loc[row_indexer,col_indexer] = value instead\n",
      "\n",
      "See the caveats in the documentation: https://pandas.pydata.org/pandas-docs/stable/user_guide/indexing.html#returning-a-view-versus-a-copy\n",
      "  fpa[c] = fpa[c].astype(float)\n",
      "/tmp/ipykernel_14609/1270881503.py:3: SettingWithCopyWarning: \n",
      "A value is trying to be set on a copy of a slice from a DataFrame.\n",
      "Try using .loc[row_indexer,col_indexer] = value instead\n",
      "\n",
      "See the caveats in the documentation: https://pandas.pydata.org/pandas-docs/stable/user_guide/indexing.html#returning-a-view-versus-a-copy\n",
      "  fpa[c] = fpa[c].astype(float)\n",
      "/tmp/ipykernel_14609/1270881503.py:3: SettingWithCopyWarning: \n",
      "A value is trying to be set on a copy of a slice from a DataFrame.\n",
      "Try using .loc[row_indexer,col_indexer] = value instead\n",
      "\n",
      "See the caveats in the documentation: https://pandas.pydata.org/pandas-docs/stable/user_guide/indexing.html#returning-a-view-versus-a-copy\n",
      "  fpa[c] = fpa[c].astype(float)\n",
      "/tmp/ipykernel_14609/1270881503.py:3: SettingWithCopyWarning: \n",
      "A value is trying to be set on a copy of a slice from a DataFrame.\n",
      "Try using .loc[row_indexer,col_indexer] = value instead\n",
      "\n",
      "See the caveats in the documentation: https://pandas.pydata.org/pandas-docs/stable/user_guide/indexing.html#returning-a-view-versus-a-copy\n",
      "  fpa[c] = fpa[c].astype(float)\n"
     ]
    }
   ],
   "source": [
    "for c in otypes:\n",
    "    try:\n",
    "        fpa[c] = fpa[c].astype(float)\n",
    "    except ValueError:\n",
    "        continue"
   ]
  },
  {
   "cell_type": "code",
   "execution_count": null,
   "id": "dd944eb3-6a85-412a-aa39-fd987f3b494c",
   "metadata": {},
   "outputs": [],
   "source": [
    "pd.api.types.is_n"
   ]
  },
  {
   "cell_type": "code",
   "execution_count": 254,
   "id": "7dc5bde5-057c-43fd-b760-19c3c5cbf9e1",
   "metadata": {},
   "outputs": [
    {
     "data": {
      "text/html": [
       "<div>\n",
       "<style scoped>\n",
       "    .dataframe tbody tr th:only-of-type {\n",
       "        vertical-align: middle;\n",
       "    }\n",
       "\n",
       "    .dataframe tbody tr th {\n",
       "        vertical-align: top;\n",
       "    }\n",
       "\n",
       "    .dataframe thead th {\n",
       "        text-align: right;\n",
       "    }\n",
       "</style>\n",
       "<table border=\"1\" class=\"dataframe\">\n",
       "  <thead>\n",
       "    <tr style=\"text-align: right;\">\n",
       "      <th></th>\n",
       "      <th>Male</th>\n",
       "      <th>Female</th>\n",
       "      <th>Third Gender</th>\n",
       "    </tr>\n",
       "    <tr>\n",
       "      <th>index</th>\n",
       "      <th></th>\n",
       "      <th></th>\n",
       "      <th></th>\n",
       "    </tr>\n",
       "  </thead>\n",
       "  <tbody>\n",
       "    <tr>\n",
       "      <th>8602033</th>\n",
       "      <td>False</td>\n",
       "      <td>True</td>\n",
       "      <td>False</td>\n",
       "    </tr>\n",
       "    <tr>\n",
       "      <th>8602074</th>\n",
       "      <td>False</td>\n",
       "      <td>True</td>\n",
       "      <td>False</td>\n",
       "    </tr>\n",
       "    <tr>\n",
       "      <th>8602098</th>\n",
       "      <td>False</td>\n",
       "      <td>True</td>\n",
       "      <td>False</td>\n",
       "    </tr>\n",
       "    <tr>\n",
       "      <th>8602134</th>\n",
       "      <td>False</td>\n",
       "      <td>True</td>\n",
       "      <td>False</td>\n",
       "    </tr>\n",
       "    <tr>\n",
       "      <th>8602176</th>\n",
       "      <td>False</td>\n",
       "      <td>True</td>\n",
       "      <td>False</td>\n",
       "    </tr>\n",
       "    <tr>\n",
       "      <th>...</th>\n",
       "      <td>...</td>\n",
       "      <td>...</td>\n",
       "      <td>...</td>\n",
       "    </tr>\n",
       "    <tr>\n",
       "      <th>7701425</th>\n",
       "      <td>False</td>\n",
       "      <td>True</td>\n",
       "      <td>False</td>\n",
       "    </tr>\n",
       "    <tr>\n",
       "      <th>7701487</th>\n",
       "      <td>False</td>\n",
       "      <td>True</td>\n",
       "      <td>False</td>\n",
       "    </tr>\n",
       "    <tr>\n",
       "      <th>7701547</th>\n",
       "      <td>False</td>\n",
       "      <td>True</td>\n",
       "      <td>False</td>\n",
       "    </tr>\n",
       "    <tr>\n",
       "      <th>7701582</th>\n",
       "      <td>False</td>\n",
       "      <td>True</td>\n",
       "      <td>False</td>\n",
       "    </tr>\n",
       "    <tr>\n",
       "      <th>7701636</th>\n",
       "      <td>False</td>\n",
       "      <td>True</td>\n",
       "      <td>False</td>\n",
       "    </tr>\n",
       "  </tbody>\n",
       "</table>\n",
       "<p>218523 rows × 3 columns</p>\n",
       "</div>"
      ],
      "text/plain": [
       "          Male  Female  Third Gender\n",
       "index                               \n",
       "8602033  False    True         False\n",
       "8602074  False    True         False\n",
       "8602098  False    True         False\n",
       "8602134  False    True         False\n",
       "8602176  False    True         False\n",
       "...        ...     ...           ...\n",
       "7701425  False    True         False\n",
       "7701487  False    True         False\n",
       "7701547  False    True         False\n",
       "7701582  False    True         False\n",
       "7701636  False    True         False\n",
       "\n",
       "[218523 rows x 3 columns]"
      ]
     },
     "execution_count": 254,
     "metadata": {},
     "output_type": "execute_result"
    }
   ],
   "source": [
    "otypes = fpa.columns[fpa.]\n",
    "xCat = pd.get_dummies(fpa[])"
   ]
  },
  {
   "cell_type": "code",
   "execution_count": null,
   "id": "28c36678-ffc8-4659-87e3-1a0476e05472",
   "metadata": {},
   "outputs": [],
   "source": []
  }
 ],
 "metadata": {
  "kernelspec": {
   "display_name": "Python 3 (ipykernel)",
   "language": "python",
   "name": "python3"
  },
  "language_info": {
   "codemirror_mode": {
    "name": "ipython",
    "version": 3
   },
   "file_extension": ".py",
   "mimetype": "text/x-python",
   "name": "python",
   "nbconvert_exporter": "python",
   "pygments_lexer": "ipython3",
   "version": "3.9.16"
  }
 },
 "nbformat": 4,
 "nbformat_minor": 5
}
