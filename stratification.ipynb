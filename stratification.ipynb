{
 "cells": [
  {
   "cell_type": "code",
   "execution_count": 1,
   "id": "1ff6ec3f-74e5-41d2-b874-c4d9d69e0114",
   "metadata": {
    "tags": []
   },
   "outputs": [],
   "source": [
    "import pandas as pd"
   ]
  },
  {
   "cell_type": "code",
   "execution_count": 2,
   "id": "37d78552-4b9d-49d8-a300-e2a981a41452",
   "metadata": {
    "tags": []
   },
   "outputs": [
    {
     "data": {
      "text/html": [
       "<div>\n",
       "<style scoped>\n",
       "    .dataframe tbody tr th:only-of-type {\n",
       "        vertical-align: middle;\n",
       "    }\n",
       "\n",
       "    .dataframe tbody tr th {\n",
       "        vertical-align: top;\n",
       "    }\n",
       "\n",
       "    .dataframe thead th {\n",
       "        text-align: right;\n",
       "    }\n",
       "</style>\n",
       "<table border=\"1\" class=\"dataframe\">\n",
       "  <thead>\n",
       "    <tr style=\"text-align: right;\">\n",
       "      <th></th>\n",
       "      <th>Age</th>\n",
       "      <th>Gender</th>\n",
       "      <th>state_codes</th>\n",
       "      <th>Total Children in HH</th>\n",
       "      <th>Total Women in HH</th>\n",
       "      <th>Total Additional Women in HH</th>\n",
       "      <th>education</th>\n",
       "      <th>marital_status</th>\n",
       "      <th>employment</th>\n",
       "      <th>Social_group_</th>\n",
       "      <th>...</th>\n",
       "      <th>n_unemp_men</th>\n",
       "      <th>Time Spent on Paid Work</th>\n",
       "      <th>Time Spent on Unpaid Work</th>\n",
       "      <th>Time Spent on Leisure</th>\n",
       "      <th>Time Spent Cooking</th>\n",
       "      <th>Time Spent Cleaning</th>\n",
       "      <th>Time Spent Collecting Firewood</th>\n",
       "      <th>Time Spent Washing</th>\n",
       "      <th>Time Spent on Domestic Chores</th>\n",
       "      <th>Time Spent on Care Work</th>\n",
       "    </tr>\n",
       "  </thead>\n",
       "  <tbody>\n",
       "    <tr>\n",
       "      <th>0</th>\n",
       "      <td>67</td>\n",
       "      <td>Male</td>\n",
       "      <td>TN</td>\n",
       "      <td>1.0</td>\n",
       "      <td>2</td>\n",
       "      <td>1</td>\n",
       "      <td>Secondary</td>\n",
       "      <td>Currently Married</td>\n",
       "      <td>Self-Employed</td>\n",
       "      <td>OBC</td>\n",
       "      <td>...</td>\n",
       "      <td>0.0</td>\n",
       "      <td>480.0</td>\n",
       "      <td>45.0</td>\n",
       "      <td>165.0</td>\n",
       "      <td>0.0</td>\n",
       "      <td>0.0</td>\n",
       "      <td>0.0</td>\n",
       "      <td>0.0</td>\n",
       "      <td>0.0</td>\n",
       "      <td>45.0</td>\n",
       "    </tr>\n",
       "    <tr>\n",
       "      <th>1</th>\n",
       "      <td>61</td>\n",
       "      <td>Female</td>\n",
       "      <td>TN</td>\n",
       "      <td>1.0</td>\n",
       "      <td>2</td>\n",
       "      <td>1</td>\n",
       "      <td>Upto Middle School</td>\n",
       "      <td>Currently Married</td>\n",
       "      <td>Casual Labour</td>\n",
       "      <td>OBC</td>\n",
       "      <td>...</td>\n",
       "      <td>0.0</td>\n",
       "      <td>300.0</td>\n",
       "      <td>225.0</td>\n",
       "      <td>195.0</td>\n",
       "      <td>165.0</td>\n",
       "      <td>0.0</td>\n",
       "      <td>0.0</td>\n",
       "      <td>0.0</td>\n",
       "      <td>165.0</td>\n",
       "      <td>60.0</td>\n",
       "    </tr>\n",
       "    <tr>\n",
       "      <th>2</th>\n",
       "      <td>33</td>\n",
       "      <td>Male</td>\n",
       "      <td>TN</td>\n",
       "      <td>1.0</td>\n",
       "      <td>2</td>\n",
       "      <td>1</td>\n",
       "      <td>Secondary</td>\n",
       "      <td>Currently Married</td>\n",
       "      <td>Salaried Employee</td>\n",
       "      <td>OBC</td>\n",
       "      <td>...</td>\n",
       "      <td>0.0</td>\n",
       "      <td>360.0</td>\n",
       "      <td>15.0</td>\n",
       "      <td>105.0</td>\n",
       "      <td>0.0</td>\n",
       "      <td>0.0</td>\n",
       "      <td>0.0</td>\n",
       "      <td>0.0</td>\n",
       "      <td>0.0</td>\n",
       "      <td>15.0</td>\n",
       "    </tr>\n",
       "    <tr>\n",
       "      <th>3</th>\n",
       "      <td>26</td>\n",
       "      <td>Female</td>\n",
       "      <td>TN</td>\n",
       "      <td>1.0</td>\n",
       "      <td>2</td>\n",
       "      <td>1</td>\n",
       "      <td>Secondary</td>\n",
       "      <td>Currently Married</td>\n",
       "      <td>Not Employed</td>\n",
       "      <td>OBC</td>\n",
       "      <td>...</td>\n",
       "      <td>0.0</td>\n",
       "      <td>0.0</td>\n",
       "      <td>645.0</td>\n",
       "      <td>45.0</td>\n",
       "      <td>135.0</td>\n",
       "      <td>90.0</td>\n",
       "      <td>0.0</td>\n",
       "      <td>120.0</td>\n",
       "      <td>345.0</td>\n",
       "      <td>120.0</td>\n",
       "    </tr>\n",
       "    <tr>\n",
       "      <th>4</th>\n",
       "      <td>70</td>\n",
       "      <td>Female</td>\n",
       "      <td>TN</td>\n",
       "      <td>0.0</td>\n",
       "      <td>1</td>\n",
       "      <td>0</td>\n",
       "      <td>Illiterate</td>\n",
       "      <td>Widowed</td>\n",
       "      <td>Not Employed</td>\n",
       "      <td>OBC</td>\n",
       "      <td>...</td>\n",
       "      <td>0.0</td>\n",
       "      <td>0.0</td>\n",
       "      <td>105.0</td>\n",
       "      <td>225.0</td>\n",
       "      <td>105.0</td>\n",
       "      <td>0.0</td>\n",
       "      <td>0.0</td>\n",
       "      <td>0.0</td>\n",
       "      <td>105.0</td>\n",
       "      <td>0.0</td>\n",
       "    </tr>\n",
       "  </tbody>\n",
       "</table>\n",
       "<p>5 rows × 29 columns</p>\n",
       "</div>"
      ],
      "text/plain": [
       "   Age  Gender state_codes  Total Children in HH  Total Women in HH  \\\n",
       "0   67    Male          TN                   1.0                  2   \n",
       "1   61  Female          TN                   1.0                  2   \n",
       "2   33    Male          TN                   1.0                  2   \n",
       "3   26  Female          TN                   1.0                  2   \n",
       "4   70  Female          TN                   0.0                  1   \n",
       "\n",
       "   Total Additional Women in HH           education     marital_status  \\\n",
       "0                             1           Secondary  Currently Married   \n",
       "1                             1  Upto Middle School  Currently Married   \n",
       "2                             1           Secondary  Currently Married   \n",
       "3                             1           Secondary  Currently Married   \n",
       "4                             0          Illiterate            Widowed   \n",
       "\n",
       "          employment Social_group_  ... n_unemp_men Time Spent on Paid Work  \\\n",
       "0      Self-Employed           OBC  ...         0.0                   480.0   \n",
       "1      Casual Labour           OBC  ...         0.0                   300.0   \n",
       "2  Salaried Employee           OBC  ...         0.0                   360.0   \n",
       "3       Not Employed           OBC  ...         0.0                     0.0   \n",
       "4       Not Employed           OBC  ...         0.0                     0.0   \n",
       "\n",
       "  Time Spent on Unpaid Work Time Spent on Leisure Time Spent Cooking  \\\n",
       "0                      45.0                 165.0                0.0   \n",
       "1                     225.0                 195.0              165.0   \n",
       "2                      15.0                 105.0                0.0   \n",
       "3                     645.0                  45.0              135.0   \n",
       "4                     105.0                 225.0              105.0   \n",
       "\n",
       "  Time Spent Cleaning Time Spent Collecting Firewood Time Spent Washing  \\\n",
       "0                 0.0                            0.0                0.0   \n",
       "1                 0.0                            0.0                0.0   \n",
       "2                 0.0                            0.0                0.0   \n",
       "3                90.0                            0.0              120.0   \n",
       "4                 0.0                            0.0                0.0   \n",
       "\n",
       "  Time Spent on Domestic Chores  Time Spent on Care Work  \n",
       "0                           0.0                     45.0  \n",
       "1                         165.0                     60.0  \n",
       "2                           0.0                     15.0  \n",
       "3                         345.0                    120.0  \n",
       "4                         105.0                      0.0  \n",
       "\n",
       "[5 rows x 29 columns]"
      ]
     },
     "execution_count": 2,
     "metadata": {},
     "output_type": "execute_result"
    }
   ],
   "source": [
    "df = pd.read_csv('data/models_data2.csv')\n",
    "df.head()"
   ]
  },
  {
   "cell_type": "code",
   "execution_count": 3,
   "id": "f5b56acd-85e7-4ac9-9225-5def8f43aa2a",
   "metadata": {
    "tags": []
   },
   "outputs": [],
   "source": [
    "import numpy as np"
   ]
  },
  {
   "cell_type": "code",
   "execution_count": 4,
   "id": "f7137fc7-c283-4a1c-a0cc-88b673d1f390",
   "metadata": {
    "tags": []
   },
   "outputs": [],
   "source": [
    "df['young_old'] = 'Old'\n",
    "df.loc[df['Age'] <= 35, 'young_old'] = 'Young'"
   ]
  },
  {
   "cell_type": "code",
   "execution_count": 5,
   "id": "118f2620-58c1-41a1-91d8-18282b9f2e62",
   "metadata": {
    "tags": []
   },
   "outputs": [],
   "source": [
    "df.drop([194306], axis=0, inplace=True)"
   ]
  },
  {
   "cell_type": "code",
   "execution_count": 6,
   "id": "5c506057-1c2a-4351-a1f3-fd3b59c3c93d",
   "metadata": {
    "tags": []
   },
   "outputs": [],
   "source": [
    "stratcols = ['young_old', 'state_codes', 'Gender', 'Social_group_', 'religion', 'sector']\n",
    "stratcode = df[stratcols].apply(lambda x: '_'.join(x), axis=1)"
   ]
  },
  {
   "cell_type": "code",
   "execution_count": 7,
   "id": "9ad19f0a-deea-40fd-92ab-3ffc7d5030ec",
   "metadata": {
    "tags": []
   },
   "outputs": [],
   "source": [
    "vc = stratcode.value_counts()\n",
    "rare = vc[vc == 1].index\n",
    "stratcode[stratcode.isin(rare)] = 'rare'"
   ]
  },
  {
   "cell_type": "code",
   "execution_count": 8,
   "id": "e76eecb1-9068-4ba1-a490-918f9731d8c0",
   "metadata": {
    "tags": []
   },
   "outputs": [
    {
     "data": {
      "text/plain": [
       "Young_UP_Female_OBC_Hinduism_Rural       3959\n",
       "Young_UP_Male_OBC_Hinduism_Rural         3769\n",
       "Old_UP_Male_OBC_Hinduism_Rural           3242\n",
       "Old_UP_Female_OBC_Hinduism_Rural         3208\n",
       "Young_BH_Female_OBC_Hinduism_Rural       2748\n",
       "                                         ... \n",
       "rare                                      918\n",
       "Young_WB_Female_Others_Hinduism_Rural     906\n",
       "Young_MP_Male_OBC_Hinduism_Urban          892\n",
       "Old_BH_Male_SC_Hinduism_Rural             892\n",
       "Young_AS_Female_Others_Islam_Rural        891\n",
       "Name: count, Length: 90, dtype: int64"
      ]
     },
     "execution_count": 8,
     "metadata": {},
     "output_type": "execute_result"
    }
   ],
   "source": [
    "stratcode.value_counts().head(90)"
   ]
  },
  {
   "cell_type": "code",
   "execution_count": 9,
   "id": "c7962a77-bfd4-4cb5-8050-145ef92345fd",
   "metadata": {
    "tags": []
   },
   "outputs": [],
   "source": [
    "df['stratcode'] = stratcode"
   ]
  },
  {
   "cell_type": "code",
   "execution_count": 10,
   "id": "890184ec-6c58-4926-852a-1c6b77eea81b",
   "metadata": {
    "tags": []
   },
   "outputs": [
    {
     "data": {
      "text/html": [
       "<div>\n",
       "<style scoped>\n",
       "    .dataframe tbody tr th:only-of-type {\n",
       "        vertical-align: middle;\n",
       "    }\n",
       "\n",
       "    .dataframe tbody tr th {\n",
       "        vertical-align: top;\n",
       "    }\n",
       "\n",
       "    .dataframe thead th {\n",
       "        text-align: right;\n",
       "    }\n",
       "</style>\n",
       "<table border=\"1\" class=\"dataframe\">\n",
       "  <thead>\n",
       "    <tr style=\"text-align: right;\">\n",
       "      <th></th>\n",
       "      <th>Age</th>\n",
       "      <th>Gender</th>\n",
       "      <th>state_codes</th>\n",
       "      <th>Total Children in HH</th>\n",
       "      <th>Total Women in HH</th>\n",
       "      <th>Total Additional Women in HH</th>\n",
       "      <th>education</th>\n",
       "      <th>marital_status</th>\n",
       "      <th>employment</th>\n",
       "      <th>Social_group_</th>\n",
       "      <th>...</th>\n",
       "      <th>Time Spent on Unpaid Work</th>\n",
       "      <th>Time Spent on Leisure</th>\n",
       "      <th>Time Spent Cooking</th>\n",
       "      <th>Time Spent Cleaning</th>\n",
       "      <th>Time Spent Collecting Firewood</th>\n",
       "      <th>Time Spent Washing</th>\n",
       "      <th>Time Spent on Domestic Chores</th>\n",
       "      <th>Time Spent on Care Work</th>\n",
       "      <th>young_old</th>\n",
       "      <th>stratcode</th>\n",
       "    </tr>\n",
       "  </thead>\n",
       "  <tbody>\n",
       "    <tr>\n",
       "      <th>0</th>\n",
       "      <td>67</td>\n",
       "      <td>Male</td>\n",
       "      <td>TN</td>\n",
       "      <td>1.0</td>\n",
       "      <td>2</td>\n",
       "      <td>1</td>\n",
       "      <td>Secondary</td>\n",
       "      <td>Currently Married</td>\n",
       "      <td>Self-Employed</td>\n",
       "      <td>OBC</td>\n",
       "      <td>...</td>\n",
       "      <td>45.0</td>\n",
       "      <td>165.0</td>\n",
       "      <td>0.0</td>\n",
       "      <td>0.0</td>\n",
       "      <td>0.0</td>\n",
       "      <td>0.0</td>\n",
       "      <td>0.0</td>\n",
       "      <td>45.0</td>\n",
       "      <td>Old</td>\n",
       "      <td>Old_TN_Male_OBC_Hinduism_Rural</td>\n",
       "    </tr>\n",
       "    <tr>\n",
       "      <th>1</th>\n",
       "      <td>61</td>\n",
       "      <td>Female</td>\n",
       "      <td>TN</td>\n",
       "      <td>1.0</td>\n",
       "      <td>2</td>\n",
       "      <td>1</td>\n",
       "      <td>Upto Middle School</td>\n",
       "      <td>Currently Married</td>\n",
       "      <td>Casual Labour</td>\n",
       "      <td>OBC</td>\n",
       "      <td>...</td>\n",
       "      <td>225.0</td>\n",
       "      <td>195.0</td>\n",
       "      <td>165.0</td>\n",
       "      <td>0.0</td>\n",
       "      <td>0.0</td>\n",
       "      <td>0.0</td>\n",
       "      <td>165.0</td>\n",
       "      <td>60.0</td>\n",
       "      <td>Old</td>\n",
       "      <td>Old_TN_Female_OBC_Hinduism_Rural</td>\n",
       "    </tr>\n",
       "    <tr>\n",
       "      <th>2</th>\n",
       "      <td>33</td>\n",
       "      <td>Male</td>\n",
       "      <td>TN</td>\n",
       "      <td>1.0</td>\n",
       "      <td>2</td>\n",
       "      <td>1</td>\n",
       "      <td>Secondary</td>\n",
       "      <td>Currently Married</td>\n",
       "      <td>Salaried Employee</td>\n",
       "      <td>OBC</td>\n",
       "      <td>...</td>\n",
       "      <td>15.0</td>\n",
       "      <td>105.0</td>\n",
       "      <td>0.0</td>\n",
       "      <td>0.0</td>\n",
       "      <td>0.0</td>\n",
       "      <td>0.0</td>\n",
       "      <td>0.0</td>\n",
       "      <td>15.0</td>\n",
       "      <td>Young</td>\n",
       "      <td>Young_TN_Male_OBC_Hinduism_Rural</td>\n",
       "    </tr>\n",
       "    <tr>\n",
       "      <th>3</th>\n",
       "      <td>26</td>\n",
       "      <td>Female</td>\n",
       "      <td>TN</td>\n",
       "      <td>1.0</td>\n",
       "      <td>2</td>\n",
       "      <td>1</td>\n",
       "      <td>Secondary</td>\n",
       "      <td>Currently Married</td>\n",
       "      <td>Not Employed</td>\n",
       "      <td>OBC</td>\n",
       "      <td>...</td>\n",
       "      <td>645.0</td>\n",
       "      <td>45.0</td>\n",
       "      <td>135.0</td>\n",
       "      <td>90.0</td>\n",
       "      <td>0.0</td>\n",
       "      <td>120.0</td>\n",
       "      <td>345.0</td>\n",
       "      <td>120.0</td>\n",
       "      <td>Young</td>\n",
       "      <td>Young_TN_Female_OBC_Hinduism_Rural</td>\n",
       "    </tr>\n",
       "    <tr>\n",
       "      <th>4</th>\n",
       "      <td>70</td>\n",
       "      <td>Female</td>\n",
       "      <td>TN</td>\n",
       "      <td>0.0</td>\n",
       "      <td>1</td>\n",
       "      <td>0</td>\n",
       "      <td>Illiterate</td>\n",
       "      <td>Widowed</td>\n",
       "      <td>Not Employed</td>\n",
       "      <td>OBC</td>\n",
       "      <td>...</td>\n",
       "      <td>105.0</td>\n",
       "      <td>225.0</td>\n",
       "      <td>105.0</td>\n",
       "      <td>0.0</td>\n",
       "      <td>0.0</td>\n",
       "      <td>0.0</td>\n",
       "      <td>105.0</td>\n",
       "      <td>0.0</td>\n",
       "      <td>Old</td>\n",
       "      <td>Old_TN_Female_OBC_Hinduism_Rural</td>\n",
       "    </tr>\n",
       "  </tbody>\n",
       "</table>\n",
       "<p>5 rows × 31 columns</p>\n",
       "</div>"
      ],
      "text/plain": [
       "   Age  Gender state_codes  Total Children in HH  Total Women in HH  \\\n",
       "0   67    Male          TN                   1.0                  2   \n",
       "1   61  Female          TN                   1.0                  2   \n",
       "2   33    Male          TN                   1.0                  2   \n",
       "3   26  Female          TN                   1.0                  2   \n",
       "4   70  Female          TN                   0.0                  1   \n",
       "\n",
       "   Total Additional Women in HH           education     marital_status  \\\n",
       "0                             1           Secondary  Currently Married   \n",
       "1                             1  Upto Middle School  Currently Married   \n",
       "2                             1           Secondary  Currently Married   \n",
       "3                             1           Secondary  Currently Married   \n",
       "4                             0          Illiterate            Widowed   \n",
       "\n",
       "          employment Social_group_  ... Time Spent on Unpaid Work  \\\n",
       "0      Self-Employed           OBC  ...                      45.0   \n",
       "1      Casual Labour           OBC  ...                     225.0   \n",
       "2  Salaried Employee           OBC  ...                      15.0   \n",
       "3       Not Employed           OBC  ...                     645.0   \n",
       "4       Not Employed           OBC  ...                     105.0   \n",
       "\n",
       "  Time Spent on Leisure Time Spent Cooking Time Spent Cleaning  \\\n",
       "0                 165.0                0.0                 0.0   \n",
       "1                 195.0              165.0                 0.0   \n",
       "2                 105.0                0.0                 0.0   \n",
       "3                  45.0              135.0                90.0   \n",
       "4                 225.0              105.0                 0.0   \n",
       "\n",
       "  Time Spent Collecting Firewood Time Spent Washing  \\\n",
       "0                            0.0                0.0   \n",
       "1                            0.0                0.0   \n",
       "2                            0.0                0.0   \n",
       "3                            0.0              120.0   \n",
       "4                            0.0                0.0   \n",
       "\n",
       "  Time Spent on Domestic Chores Time Spent on Care Work young_old  \\\n",
       "0                           0.0                    45.0       Old   \n",
       "1                         165.0                    60.0       Old   \n",
       "2                           0.0                    15.0     Young   \n",
       "3                         345.0                   120.0     Young   \n",
       "4                         105.0                     0.0       Old   \n",
       "\n",
       "                            stratcode  \n",
       "0      Old_TN_Male_OBC_Hinduism_Rural  \n",
       "1    Old_TN_Female_OBC_Hinduism_Rural  \n",
       "2    Young_TN_Male_OBC_Hinduism_Rural  \n",
       "3  Young_TN_Female_OBC_Hinduism_Rural  \n",
       "4    Old_TN_Female_OBC_Hinduism_Rural  \n",
       "\n",
       "[5 rows x 31 columns]"
      ]
     },
     "execution_count": 10,
     "metadata": {},
     "output_type": "execute_result"
    }
   ],
   "source": [
    "df.head()"
   ]
  },
  {
   "cell_type": "code",
   "execution_count": 11,
   "id": "1b64d8b2-db72-4668-aa6d-f9e4cff10313",
   "metadata": {
    "tags": []
   },
   "outputs": [],
   "source": [
    "from sklearn.model_selection import train_test_split"
   ]
  },
  {
   "cell_type": "code",
   "execution_count": 12,
   "id": "12594e7d-91bc-4609-8180-e216c36af10f",
   "metadata": {
    "tags": []
   },
   "outputs": [],
   "source": [
    "dftrain, dftest = train_test_split(df, stratify=df['stratcode'])"
   ]
  },
  {
   "cell_type": "code",
   "execution_count": 13,
   "id": "d5f20d22-5494-4eb1-8d01-76d0c0eeef77",
   "metadata": {
    "tags": []
   },
   "outputs": [
    {
     "data": {
      "text/plain": [
       "(286667, 31)"
      ]
     },
     "execution_count": 13,
     "metadata": {},
     "output_type": "execute_result"
    }
   ],
   "source": [
    "dftrain.shape"
   ]
  },
  {
   "cell_type": "code",
   "execution_count": 14,
   "id": "6c92ebb2-fbcf-48b2-b85e-1cfbbadad41b",
   "metadata": {
    "tags": []
   },
   "outputs": [
    {
     "data": {
      "text/plain": [
       "(95556, 31)"
      ]
     },
     "execution_count": 14,
     "metadata": {},
     "output_type": "execute_result"
    }
   ],
   "source": [
    "dftest.shape"
   ]
  },
  {
   "cell_type": "code",
   "execution_count": 15,
   "id": "5bd7b994-503f-4fa6-80da-a69ddd226e5e",
   "metadata": {
    "tags": []
   },
   "outputs": [],
   "source": [
    "df.to_csv('data/strat.csv', index=False)"
   ]
  }
 ],
 "metadata": {
  "kernelspec": {
   "display_name": "Python 3 (ipykernel)",
   "language": "python",
   "name": "python3"
  },
  "language_info": {
   "codemirror_mode": {
    "name": "ipython",
    "version": 3
   },
   "file_extension": ".py",
   "mimetype": "text/x-python",
   "name": "python",
   "nbconvert_exporter": "python",
   "pygments_lexer": "ipython3",
   "version": "3.9.16"
  }
 },
 "nbformat": 4,
 "nbformat_minor": 5
}
